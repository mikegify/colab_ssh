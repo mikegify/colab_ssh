{
  "nbformat": 4,
  "nbformat_minor": 0,
  "metadata": {
    "colab": {
      "name": "Dual.ipynb",
      "private_outputs": true,
      "provenance": [],
      "collapsed_sections": []
    },
    "kernelspec": {
      "name": "python3",
      "display_name": "Python 3"
    },
    "language_info": {
      "name": "python"
    },
    "accelerator": "GPU"
  },
  "cells": [
    {
      "cell_type": "code",
      "source": [
        "#@title **GPU CHECK**\n",
        "!nvidia-smi"
      ],
      "metadata": {
        "cellView": "form",
        "id": "q6m7BaFRJiEm"
      },
      "execution_count": null,
      "outputs": []
    },
    {
      "cell_type": "code",
      "source": [
        "#@title **SSH NGROK** [Auth Token Ngrok](https://dashboard.ngrok.com/get-started/your-authtoken)\n",
        "\n",
        "!wget https://raw.githubusercontent.com/mikegify/colab_ssh/main/ngrok_v2/main.sh && chmod +x main.sh && ./main.sh\n"
      ],
      "metadata": {
        "id": "dq-XSctdh8L6",
        "cellView": "form"
      },
      "execution_count": null,
      "outputs": []
    },
    {
      "cell_type": "code",
      "source": [
        "#@title **Sleep Mode**\n",
        "!sleep  9 && sleep 99 && sleep 999 &&  sleep 9999 &&  sleep 99999 &&  sleep 999999 && sleep 9999999 && sleep 99999999 && sleep 999999999 &"
      ],
      "metadata": {
        "cellView": "form",
        "id": "Uwg7bopuPJ8k"
      },
      "execution_count": null,
      "outputs": []
    },
    {
      "cell_type": "markdown",
      "metadata": {
        "id": "e9wa7ujNT_pz"
      },
      "source": [
        "**Auto Reconnect**\n",
        "\n",
        "Press F12 >>> Select Console>>> Paste this code\n",
        "```\n",
        "function ClickConnect() {\n",
        "  console.log('Working')\n",
        "  document\n",
        "    .querySelector('#top-toolbar > colab-connect-button')\n",
        "    .shadowRoot.querySelector('#connect')\n",
        "    .click()\n",
        "}\n",
        "\n",
        "setInterval(ClickConnect, 60000)\n",
        "\n"
      ]
    }
  ]
}