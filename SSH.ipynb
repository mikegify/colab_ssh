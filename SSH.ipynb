{
  "cells": [
    {
      "metadata": {
        "trusted": true,
        "id": "Fq4vQv0PDoiV",
        "cellView": "form"
      },
      "cell_type": "code",
      "source": [
        "#@title **GPU Check**\n",
        "!nvidia-smi -L"
      ],
      "execution_count": null,
      "outputs": [],
      "id": "Fq4vQv0PDoiV"
    },
    {
      "cell_type": "code",
      "source": [
        "#@title **Server Location**\n",
        "!curl ipinfo.io"
      ],
      "metadata": {
        "cellView": "form",
        "id": "m41q-aEoOvnr"
      },
      "id": "m41q-aEoOvnr",
      "execution_count": null,
      "outputs": []
    },
    {
      "metadata": {
        "trusted": true,
        "cellView": "form",
        "id": "IIKNyEBXDojG"
      },
      "cell_type": "code",
      "source": [
        "#@title **SSH**\n",
        "!pip install colab_ssh --upgrade\n",
        "\n",
        "ssh_tunnel_password = \"root\" #@param {type: \"string\"}\n",
        "\n",
        "#@markdown Choose a method (Agro Recommended)\n",
        "ssh_method = \"Agro\" #@param [\"Agro\", \"Ngrok\"]\n",
        "\n",
        "\n",
        "#@markdown Copy authtoken from https://dashboard.ngrok.com/auth (only for ngrok)\n",
        "ngrokRegion = \"us\" #@param [\"us\", \"eu\", \"ap\", \"au\", \"sa\", \"jp\", \"in\"]\n",
        "\n",
        "def runAgro():\n",
        "    from colab_ssh import launch_ssh_cloudflared\n",
        "    launch_ssh_cloudflared(password=ssh_tunnel_password)\n",
        "\n",
        "def runNgrok():\n",
        "    from colab_ssh import launch_ssh\n",
        "    from IPython.display import clear_output\n",
        "\n",
        "    import getpass\n",
        "    ngrokToken = getpass.getpass(\"Enter the ngrokToken: \")\n",
        "\n",
        "    launch_ssh(ngrokToken, password=ssh_tunnel_password, region=ngrokRegion)\n",
        "    clear_output()\n",
        "\n",
        "    print(\"ssh\", \"root\", end='@')\n",
        "    ! curl -s http://localhost:4040/api/tunnels | python3 -c \\\n",
        "            \"import sys, json; print(json.load(sys.stdin)['tunnels'][0]['public_url'][6:].replace(':', ' -p '))\"\n",
        "\n",
        "try:\n",
        "    password = ssh_tunnel_password\n",
        "except NameError:\n",
        "    print(\"No user found, using username and password as 'root'\")\n",
        "    user='root'\n",
        "    password='root'\n",
        "\n",
        "\n",
        "if ssh_method == \"Agro\":\n",
        "    runAgro()\n",
        "if ssh_method == \"Ngrok\":\n",
        "    runNgrok()\n"
      ],
      "execution_count": null,
      "outputs": [],
      "id": "IIKNyEBXDojG"
    },
    {
      "cell_type": "code",
      "source": [
        "#@title **Sleep Mode**\n",
        "!sleep  9 && sleep 99 && sleep 999 &&  sleep 9999 &&  sleep 99999 &&  sleep 999999 && sleep 9999999 && sleep 99999999 && sleep 999999999 &"
      ],
      "metadata": {
        "id": "Uwg7bopuPJ8k",
        "cellView": "form"
      },
      "execution_count": null,
      "outputs": [],
      "id": "Uwg7bopuPJ8k"
    },
    {
      "cell_type": "markdown",
      "metadata": {
        "id": "e9wa7ujNT_pz"
      },
      "source": [
        "**Auto Reconnect**\n",
        "\n",
        "Press F12 >>> Select Console>>> Paste this code\n",
        "```\n",
        "function ClickConnect(){\n",
        "console.log(\"Working\"); \n",
        "document.querySelector(\"colab-toolbar-button#toolbar-add-text\").click() \n",
        "}\n",
        "var colab = setInterval(ClickConnect,7000)\n",
        "\n"
      ],
      "id": "e9wa7ujNT_pz"
    }
  ],
  "metadata": {
    "kernelspec": {
      "name": "python3",
      "display_name": "Python 3",
      "language": "python"
    },
    "language_info": {
      "name": "python",
      "version": "3.6.15",
      "mimetype": "text/x-python",
      "codemirror_mode": {
        "name": "ipython",
        "version": 3
      },
      "pygments_lexer": "ipython3",
      "nbconvert_exporter": "python",
      "file_extension": ".py"
    },
    "colab": {
      "name": "SSH.ipynb",
      "provenance": []
    },
    "accelerator": "GPU"
  },
  "nbformat": 4,
  "nbformat_minor": 5
}